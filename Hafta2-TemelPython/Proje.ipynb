{
 "cells": [
  {
   "cell_type": "markdown",
   "id": "a8152b60",
   "metadata": {},
   "source": [
    "1.Bir listeyi düzleştiren (flatten) fonksiyon yazın. Elemanları birden çok katmanlı listtlerden ([[3],2] gibi) oluşabileceği gibi, non-scalar verilerden de oluşabilir. Örnek olarak:\n",
    "\n",
    "##### input: [[1,'a',['cat'],2],[[[3]],'dog'],4,5]\n",
    "\n",
    "###### output: [1,'a','cat',2,3,'dog',4,5]"
   ]
  },
  {
   "cell_type": "code",
   "execution_count": 1,
   "id": "41c18d7f",
   "metadata": {},
   "outputs": [
    {
     "name": "stdout",
     "output_type": "stream",
     "text": [
      "[1, 'a', 'cat', 2, 3, 'dog', 4, 5]\n"
     ]
    }
   ],
   "source": [
    "input=[[1,'a',['cat'],2],[[[3]],'dog'],4,5]\n",
    "out=[]\n",
    "\n",
    "def n_sc(x):\n",
    "    if type(x) != list:\n",
    "        out.append(x)\n",
    "    else:\n",
    "        for i in x:\n",
    "            n_sc(i)\n",
    "    return out\n",
    "   \n",
    "print(n_sc(input))"
   ]
  },
  {
   "cell_type": "code",
   "execution_count": null,
   "id": "d8a4e153",
   "metadata": {},
   "outputs": [],
   "source": []
  },
  {
   "cell_type": "markdown",
   "id": "0ab6932d",
   "metadata": {},
   "source": [
    "2.Verilen listenin içindeki elemanları tersine döndüren bir fonksiyon yazın. Eğer listenin içindeki elemanlar da liste içeriyorsa onların elemanlarını da tersine döndürün. Örnek olarak:\n",
    "\n",
    "###### input: [[1, 2], [3, 4], [5, 6, 7]]\n",
    "\n",
    "###### output: [[[7, 6, 5], [4, 3], [2, 1]]"
   ]
  },
  {
   "cell_type": "code",
   "execution_count": 2,
   "id": "94ee6c68",
   "metadata": {},
   "outputs": [
    {
     "name": "stdout",
     "output_type": "stream",
     "text": [
      "[[7, 6, 5], [4, ['bvd', 'abc0', 'cat'], 3], [2, 1]]\n"
     ]
    }
   ],
   "source": [
    "a=[[1, 2], [3,['cat','abc0','bvd'], 4], [5, 6, 7]]\n",
    "def rev(a):\n",
    "    a.reverse()\n",
    "    for i in a:\n",
    "        if type(i)==list:\n",
    "            rev(i)\n",
    "    return a\n",
    "print(rev(a))"
   ]
  },
  {
   "cell_type": "code",
   "execution_count": null,
   "id": "d59f1592",
   "metadata": {},
   "outputs": [],
   "source": []
  }
 ],
 "metadata": {
  "kernelspec": {
   "display_name": "Python 3",
   "language": "python",
   "name": "python3"
  },
  "language_info": {
   "codemirror_mode": {
    "name": "ipython",
    "version": 3
   },
   "file_extension": ".py",
   "mimetype": "text/x-python",
   "name": "python",
   "nbconvert_exporter": "python",
   "pygments_lexer": "ipython3",
   "version": "3.8.8"
  }
 },
 "nbformat": 4,
 "nbformat_minor": 5
}
