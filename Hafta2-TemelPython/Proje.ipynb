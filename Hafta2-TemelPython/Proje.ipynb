{
 "cells": [
  {
   "cell_type": "markdown",
   "id": "a16be863",
   "metadata": {},
   "source": [
    "1.Bir listeyi düzleştiren (flatten) fonksiyon yazın. Elemanları birden çok katmanlı listtlerden ([[3],2] gibi) oluşabileceği gibi, non-scalar verilerden de oluşabilir. Örnek olarak:\n",
    "\n",
    "##### input: [[1,'a',['cat'],2],[[[3]],'dog'],4,5]\n",
    "\n",
    "###### output: [1,'a','cat',2,3,'dog',4,5]"
   ]
  },
  {
   "cell_type": "code",
   "execution_count": 1,
   "id": "76c4c3f7",
   "metadata": {},
   "outputs": [
    {
     "name": "stdout",
     "output_type": "stream",
     "text": [
      "[1, 'a', 'cat', 2, 3, 'dog', 4, 5]\n"
     ]
    }
   ],
   "source": [
    "input=[[1,'a',['cat'],2],[[[3]],'dog'],4,5]\n",
    "out=[]\n",
    "\n",
    "def n_sc(x):\n",
    "    if type(x) != list:\n",
    "        out.append(x)\n",
    "    else:\n",
    "        for i in x:\n",
    "            n_sc(i)\n",
    "    return out\n",
    "   \n",
    "print(n_sc(input))"
   ]
  },
  {
   "cell_type": "markdown",
   "id": "18a8234e",
   "metadata": {},
   "source": [
    "## fstring ile çözüm\n",
    "\n"
   ]
  },
  {
   "cell_type": "code",
   "execution_count": 61,
   "id": "1665fa99",
   "metadata": {},
   "outputs": [
    {
     "data": {
      "text/plain": [
       "\"[[1, 'a', ['cat'], 2], [[[3]], 'dog'], 4, 5]\""
      ]
     },
     "execution_count": 61,
     "metadata": {},
     "output_type": "execute_result"
    }
   ],
   "source": [
    "a=[[1,'a',['cat'],2],[[[3]],'dog'],4,5]\n",
    "k=f\"{a}\"\n",
    "k"
   ]
  },
  {
   "cell_type": "code",
   "execution_count": 62,
   "id": "bb63b78a",
   "metadata": {},
   "outputs": [
    {
     "data": {
      "text/plain": [
       "'1, a, cat, 2, 3, dog, 4, 5'"
      ]
     },
     "execution_count": 62,
     "metadata": {},
     "output_type": "execute_result"
    }
   ],
   "source": [
    "m=k.replace('[','').replace(']','').replace(\"'\",'').replace('\"','').strip()\n",
    "m"
   ]
  },
  {
   "cell_type": "code",
   "execution_count": 63,
   "id": "cd3457b1",
   "metadata": {},
   "outputs": [
    {
     "data": {
      "text/plain": [
       "['1', ' a', ' cat', ' 2', ' 3', ' dog', ' 4', ' 5']"
      ]
     },
     "execution_count": 63,
     "metadata": {},
     "output_type": "execute_result"
    }
   ],
   "source": [
    "m.split(',')"
   ]
  },
  {
   "cell_type": "code",
   "execution_count": null,
   "id": "11da772a",
   "metadata": {},
   "outputs": [],
   "source": []
  },
  {
   "cell_type": "markdown",
   "id": "2151ac1d",
   "metadata": {},
   "source": [
    "2.Verilen listenin içindeki elemanları tersine döndüren bir fonksiyon yazın. Eğer listenin içindeki elemanlar da liste içeriyorsa onların elemanlarını da tersine döndürün. Örnek olarak:\n",
    "\n",
    "###### input: [[1, 2], [3, 4], [5, 6, 7]]\n",
    "\n",
    "###### output: [[[7, 6, 5], [4, 3], [2, 1]]"
   ]
  },
  {
   "cell_type": "code",
   "execution_count": 4,
   "id": "697ffee8",
   "metadata": {},
   "outputs": [
    {
     "name": "stdout",
     "output_type": "stream",
     "text": [
      "[[7, 6, 5], 3, [4, ['bvd', 'abc0', 'cat'], 3], [2, 1]]\n"
     ]
    }
   ],
   "source": [
    "a=[[1, 2], [3,['cat','abc0','bvd'], 4],3, [5, 6, 7]]\n",
    "def rev(a):\n",
    "    a.reverse()\n",
    "    for i in a:\n",
    "        if type(i)==list:\n",
    "            rev(i)\n",
    "    return a\n",
    "print(rev(a))"
   ]
  },
  {
   "cell_type": "code",
   "execution_count": 5,
   "id": "0bd41c95",
   "metadata": {},
   "outputs": [],
   "source": [
    "a=41"
   ]
  },
  {
   "cell_type": "code",
   "execution_count": 7,
   "id": "7d934231",
   "metadata": {},
   "outputs": [
    {
     "data": {
      "text/plain": [
       "('str', 41, 'naber')"
      ]
     },
     "execution_count": 7,
     "metadata": {},
     "output_type": "execute_result"
    }
   ],
   "source": [
    "k='str',a,'naber'\n",
    "k"
   ]
  },
  {
   "cell_type": "code",
   "execution_count": 8,
   "id": "1e12d299",
   "metadata": {},
   "outputs": [
    {
     "data": {
      "text/plain": [
       "tuple"
      ]
     },
     "execution_count": 8,
     "metadata": {},
     "output_type": "execute_result"
    }
   ],
   "source": [
    "type(k)"
   ]
  },
  {
   "cell_type": "code",
   "execution_count": null,
   "id": "55ea7863",
   "metadata": {},
   "outputs": [],
   "source": []
  }
 ],
 "metadata": {
  "kernelspec": {
   "display_name": "Python 3",
   "language": "python",
   "name": "python3"
  },
  "language_info": {
   "codemirror_mode": {
    "name": "ipython",
    "version": 3
   },
   "file_extension": ".py",
   "mimetype": "text/x-python",
   "name": "python",
   "nbconvert_exporter": "python",
   "pygments_lexer": "ipython3",
   "version": "3.8.8"
  }
 },
 "nbformat": 4,
 "nbformat_minor": 5
}
